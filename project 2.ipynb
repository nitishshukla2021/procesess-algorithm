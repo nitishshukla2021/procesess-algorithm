{
 "cells": [
  {
   "cell_type": "code",
   "execution_count": 1,
   "id": "8415a5d1",
   "metadata": {},
   "outputs": [],
   "source": [
    "# write a program to check wheather the given word contain vowels or not, also detail the number of vowels present."
   ]
  },
  {
   "cell_type": "code",
   "execution_count": 5,
   "id": "b1a16ef2",
   "metadata": {},
   "outputs": [
    {
     "name": "stdout",
     "output_type": "stream",
     "text": [
      "enter the word  :cat\n",
      "the number of vowels is: 1\n"
     ]
    }
   ],
   "source": [
    "x=str(input(\"enter the word  :\"))\n",
    "v=['a','e','i','o','u']\n",
    "count=0\n",
    "for i in x:\n",
    "    if i in v:\n",
    "        count +=1\n",
    "print(\"the number of vowels is:\",count)\n"
   ]
  },
  {
   "cell_type": "code",
   "execution_count": null,
   "id": "de2f2028",
   "metadata": {},
   "outputs": [],
   "source": []
  }
 ],
 "metadata": {
  "kernelspec": {
   "display_name": "Python 3 (ipykernel)",
   "language": "python",
   "name": "python3"
  },
  "language_info": {
   "codemirror_mode": {
    "name": "ipython",
    "version": 3
   },
   "file_extension": ".py",
   "mimetype": "text/x-python",
   "name": "python",
   "nbconvert_exporter": "python",
   "pygments_lexer": "ipython3",
   "version": "3.11.5"
  }
 },
 "nbformat": 4,
 "nbformat_minor": 5
}
