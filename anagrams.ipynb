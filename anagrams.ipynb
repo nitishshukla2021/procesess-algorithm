{
 "cells": [
  {
   "cell_type": "code",
   "execution_count": 1,
   "id": "04f83f6f",
   "metadata": {},
   "outputs": [
    {
     "name": "stdout",
     "output_type": "stream",
     "text": [
      "['b', 'o', 'a', 't']\n"
     ]
    }
   ],
   "source": [
    "x=\"boat\"\n",
    "y=list(x)\n",
    "print(y)"
   ]
  },
  {
   "cell_type": "code",
   "execution_count": 3,
   "id": "917040f0",
   "metadata": {},
   "outputs": [
    {
     "data": {
      "text/plain": [
       "['a', 'o', 'b', 't']"
      ]
     },
     "execution_count": 3,
     "metadata": {},
     "output_type": "execute_result"
    }
   ],
   "source": [
    "def swap(list,pos1,pos2):\n",
    "    list[pos1],list[pos2]=list[pos2],list[pos1]\n",
    "    return list\n",
    "swap(y,0,2)"
   ]
  },
  {
   "cell_type": "code",
   "execution_count": 4,
   "id": "e74a4cef",
   "metadata": {},
   "outputs": [
    {
     "name": "stdout",
     "output_type": "stream",
     "text": [
      "aobt\n"
     ]
    }
   ],
   "source": [
    "str=\"\"\n",
    "d=str.join(y)\n",
    "print(d)"
   ]
  },
  {
   "cell_type": "code",
   "execution_count": 5,
   "id": "2da5a489",
   "metadata": {},
   "outputs": [
    {
     "name": "stdout",
     "output_type": "stream",
     "text": [
      "['c', 'r', 'e', 'a', 't']\n",
      "ctear\n"
     ]
    }
   ],
   "source": [
    "x=\"creat\"\n",
    "y=list(x)\n",
    "print(y)\n",
    "def swap(list,pos1,pos2):\n",
    "    list[pos1],list[pos2]=list[pos2],list[pos1]\n",
    "    return list\n",
    "swap(y,1,4)\n",
    "str=\"\"\n",
    "d=str.join(y)\n",
    "print(d)"
   ]
  },
  {
   "cell_type": "code",
   "execution_count": 6,
   "id": "9886bb6b",
   "metadata": {},
   "outputs": [
    {
     "name": "stdout",
     "output_type": "stream",
     "text": [
      "['c', 'r', 'e', 'a', 't', 'e']\n",
      "ceerta\n"
     ]
    }
   ],
   "source": [
    "x=\"create\"\n",
    "y=list(x)\n",
    "print(y)\n",
    "def swap(list,pos1,pos2,pos3):\n",
    "    list[pos1],list[pos2],list[pos3]=list[pos3],list[pos1],list[pos2]\n",
    "    return list\n",
    "swap(y,1,3,5)\n",
    "str=\"\"\n",
    "d=str.join(y)\n",
    "print(d)"
   ]
  },
  {
   "cell_type": "code",
   "execution_count": null,
   "id": "4151bacf",
   "metadata": {},
   "outputs": [],
   "source": []
  }
 ],
 "metadata": {
  "kernelspec": {
   "display_name": "Python 3 (ipykernel)",
   "language": "python",
   "name": "python3"
  },
  "language_info": {
   "codemirror_mode": {
    "name": "ipython",
    "version": 3
   },
   "file_extension": ".py",
   "mimetype": "text/x-python",
   "name": "python",
   "nbconvert_exporter": "python",
   "pygments_lexer": "ipython3",
   "version": "3.11.5"
  }
 },
 "nbformat": 4,
 "nbformat_minor": 5
}
