{
 "cells": [
  {
   "cell_type": "code",
   "execution_count": 2,
   "id": "0a4264d2",
   "metadata": {},
   "outputs": [],
   "source": [
    "def intro():\n",
    "  print(\"hello world\")"
   ]
  },
  {
   "cell_type": "code",
   "execution_count": 3,
   "id": "8bf7341e",
   "metadata": {},
   "outputs": [
    {
     "name": "stdout",
     "output_type": "stream",
     "text": [
      "16\n"
     ]
    }
   ],
   "source": [
    "a=8\n",
    "b=5\n",
    "c=3\n",
    "sum=a+b+c\n",
    "print(sum)"
   ]
  },
  {
   "cell_type": "code",
   "execution_count": 4,
   "id": "87e64ff4",
   "metadata": {},
   "outputs": [
    {
     "name": "stdout",
     "output_type": "stream",
     "text": [
      "hello world\n"
     ]
    }
   ],
   "source": [
    "intro()"
   ]
  },
  {
   "cell_type": "code",
   "execution_count": 11,
   "id": "e4f14c40",
   "metadata": {},
   "outputs": [
    {
     "name": "stdout",
     "output_type": "stream",
     "text": [
      "13\n"
     ]
    }
   ],
   "source": [
    "a=8\n",
    "b=5\n",
    "def sum(a,b):\n",
    "   add=a+b\n",
    "   print(add)\n",
    "sum(a,b)\n"
   ]
  },
  {
   "cell_type": "code",
   "execution_count": 13,
   "id": "68e405bb",
   "metadata": {},
   "outputs": [
    {
     "name": "stdout",
     "output_type": "stream",
     "text": [
      "3\n"
     ]
    }
   ],
   "source": [
    "a=8\n",
    "b=5\n",
    "def sub(num1,num2):\n",
    "   sub=num1-num2\n",
    "   print(sub)\n",
    "sub(a,b)\n"
   ]
  },
  {
   "cell_type": "code",
   "execution_count": 14,
   "id": "46349200",
   "metadata": {},
   "outputs": [
    {
     "name": "stdout",
     "output_type": "stream",
     "text": [
      "40\n"
     ]
    }
   ],
   "source": [
    "a=8\n",
    "b=5\n",
    "def product(num1,num2):\n",
    "   product =num1*num2\n",
    "   print(product)\n",
    "product(a,b)"
   ]
  },
  {
   "cell_type": "code",
   "execution_count": 16,
   "id": "5c728762",
   "metadata": {},
   "outputs": [
    {
     "name": "stdout",
     "output_type": "stream",
     "text": [
      "1.6\n"
     ]
    }
   ],
   "source": [
    "a=8\n",
    "b=5\n",
    "def div(num1,num2):\n",
    "   div =num1/num2\n",
    "   print(div)\n",
    "div(a,b)"
   ]
  },
  {
   "cell_type": "code",
   "execution_count": 18,
   "id": "9af73a2f",
   "metadata": {},
   "outputs": [
    {
     "name": "stdout",
     "output_type": "stream",
     "text": [
      "enter first number:40\n",
      "enter second number:40\n",
      "the sum of two number is: 80\n",
      "the difference of two number is: 0\n",
      "the product of two number is 1600\n",
      "the quotient of two numberis 1.0\n"
     ]
    }
   ],
   "source": [
    "a=int(input(\"enter first number:\"))\n",
    "b=int(input(\"enter second number:\"))\n",
    "def calculator(num1,num2):\n",
    "    add=num1+num2\n",
    "    print(\"the sum of two number is:\",add)\n",
    "    minus=num1-num2\n",
    "    print(\"the difference of two number is:\",minus)\n",
    "    product=num1*num2\n",
    "    print(\"the product of two number is\",product)\n",
    "    divide=num1/num2\n",
    "    print(\"the quotient of two numberis\",divide)\n",
    "calculator(a,b)"
   ]
  },
  {
   "cell_type": "code",
   "execution_count": 1,
   "id": "c3386c98",
   "metadata": {},
   "outputs": [],
   "source": [
    "# build an input prompt uses defined function which gives the roots of the quadratic equation 'ax+bx+c=0' where the constanta,b,c are obtained by user"
   ]
  },
  {
   "cell_type": "code",
   "execution_count": 14,
   "id": "77914bc6",
   "metadata": {},
   "outputs": [
    {
     "name": "stdout",
     "output_type": "stream",
     "text": [
      "enter the cofficient a:1\n",
      "enter the cofficient b:1\n",
      "enter the cofficient c:1\n",
      "roots are imaginary\n"
     ]
    }
   ],
   "source": [
    "num1=float(input(\"enter the cofficient a:\"))\n",
    "num2=float(input(\"enter the cofficient b:\"))\n",
    "num3=float(input(\"enter the cofficient c:\"))\n",
    "def quadratic_roots(a,b,c):\n",
    "    x=(b**2)-4*a*c\n",
    "    if x>0:\n",
    "        root1=(-b+(x**0.5)/ (2*a))\n",
    "        root2=(-b-(x**0.5)/ (2*a))\n",
    "        print(\"root1:\",root1,\"root2:\",root2)\n",
    "    elif x==0:\n",
    "        root1=root2=(-b/2*a)\n",
    "        print(\"two equal and real root exists:\")\n",
    "        print(\"root 1 and root 2:\",root1)\n",
    "    else:\n",
    "        print(\"roots are imaginary\")\n",
    "quadratic_roots(num1,num2,num3)\n",
    "    \n",
    "        "
   ]
  },
  {
   "cell_type": "code",
   "execution_count": 15,
   "id": "bdd5336c",
   "metadata": {},
   "outputs": [
    {
     "name": "stdout",
     "output_type": "stream",
     "text": [
      "enter the cofficient a:1\n",
      "enter the cofficient b:5\n",
      "enter the cofficient c:1\n",
      "root1: -2.70871215252208 root2: -7.2912878474779195\n"
     ]
    }
   ],
   "source": [
    "num1=float(input(\"enter the cofficient a:\"))\n",
    "num2=float(input(\"enter the cofficient b:\"))\n",
    "num3=float(input(\"enter the cofficient c:\"))\n",
    "def quadratic_roots(a,b,c):\n",
    "    x=(b**2)-4*a*c\n",
    "    if x>0:\n",
    "        root1=(-b+(x**0.5)/ (2*a))\n",
    "        root2=(-b-(x**0.5)/ (2*a))\n",
    "        print(\"root1:\",root1,\"root2:\",root2)\n",
    "    elif x==0:\n",
    "        root1=root2=(-b/2*a)\n",
    "        print(\"two equal and real root exists:\")\n",
    "        print(\"root 1 and root 2:\",root1)\n",
    "    else:\n",
    "        print(\"roots are imaginary\")\n",
    "quadratic_roots(num1,num2,num3)"
   ]
  },
  {
   "cell_type": "code",
   "execution_count": 17,
   "id": "52dc47a5",
   "metadata": {},
   "outputs": [
    {
     "name": "stdout",
     "output_type": "stream",
     "text": [
      "enter the cofficient a:1\n",
      "enter the cofficient b:-4\n",
      "enter the cofficient c:3\n",
      "root1: 5.0 root2: 3.0\n"
     ]
    }
   ],
   "source": [
    "num1=float(input(\"enter the cofficient a:\"))\n",
    "num2=float(input(\"enter the cofficient b:\"))\n",
    "num3=float(input(\"enter the cofficient c:\"))\n",
    "def quadratic_roots(a,b,c):\n",
    "    x=(b**2)-4*a*c\n",
    "    if x>0:\n",
    "        root1=(-b+(x**0.5)/ (2*a))\n",
    "        root2=(-b-(x**0.5)/ (2*a))\n",
    "        print(\"root1:\",root1,\"root2:\",root2)\n",
    "    elif x==0:\n",
    "        root1=root2=(-b/2*a)\n",
    "        print(\"two equal and real root exists:\")\n",
    "        print(\"root 1 and root 2:\",root1)\n",
    "    else:\n",
    "        print(\"roots are imaginary\")\n",
    "quadratic_roots(num1,num2,num3)"
   ]
  },
  {
   "cell_type": "code",
   "execution_count": 1,
   "id": "fcf43b05",
   "metadata": {},
   "outputs": [],
   "source": [
    "#while loop: general syntax\n",
    "#variable=\n",
    "#whle(condition on variable):\n",
    "#body of command"
   ]
  },
  {
   "cell_type": "code",
   "execution_count": 2,
   "id": "d4961250",
   "metadata": {},
   "outputs": [
    {
     "name": "stdout",
     "output_type": "stream",
     "text": [
      "hello world\n"
     ]
    }
   ],
   "source": [
    "i=0\n",
    "if i<3:\n",
    "    print(\"hello world\")"
   ]
  },
  {
   "cell_type": "code",
   "execution_count": 3,
   "id": "3ce705fc",
   "metadata": {},
   "outputs": [
    {
     "name": "stdout",
     "output_type": "stream",
     "text": [
      "hello world\n"
     ]
    }
   ],
   "source": [
    "i=5\n",
    "if i<6:\n",
    "    print(\"hello world\")\n",
    "    "
   ]
  },
  {
   "cell_type": "code",
   "execution_count": 4,
   "id": "1518c1f5",
   "metadata": {},
   "outputs": [
    {
     "name": "stdout",
     "output_type": "stream",
     "text": [
      "hello world\n",
      "hello world\n",
      "hello world\n"
     ]
    }
   ],
   "source": [
    "i=0\n",
    "while(i<3):\n",
    "    print(\"hello world\")\n",
    "    i=i+1"
   ]
  },
  {
   "cell_type": "code",
   "execution_count": 10,
   "id": "9f6c39f0",
   "metadata": {},
   "outputs": [
    {
     "name": "stdout",
     "output_type": "stream",
     "text": [
      "1\n",
      "2\n",
      "3\n",
      "4\n",
      "5\n",
      "6\n",
      "7\n",
      "8\n",
      "9\n"
     ]
    }
   ],
   "source": [
    "for i in range(1,10,1):\n",
    "    print(i)"
   ]
  },
  {
   "cell_type": "code",
   "execution_count": 2,
   "id": "6fa8d4f6",
   "metadata": {},
   "outputs": [
    {
     "name": "stdout",
     "output_type": "stream",
     "text": [
      "Enter the natural  number10\n",
      "10\n",
      "9\n",
      "8\n",
      "7\n",
      "6\n",
      "5\n",
      "4\n",
      "3\n",
      "2\n",
      "1\n",
      "0\n"
     ]
    }
   ],
   "source": [
    "n=int(input(\"Enter the natural  number\"))\n",
    "while n>=0: \n",
    "        print(n)\n",
    "        n=n-1\n"
   ]
  },
  {
   "cell_type": "code",
   "execution_count": 1,
   "id": "67be93e3",
   "metadata": {},
   "outputs": [
    {
     "name": "stdout",
     "output_type": "stream",
     "text": [
      "enter the number 5\n",
      "5\n",
      "4\n",
      "3\n",
      "2\n",
      "1\n",
      "0\n"
     ]
    }
   ],
   "source": [
    "n=int(input(\"enter the number \"))\n",
    "sum=0\n",
    "while n>=0:\n",
    "    sum=sum+1\n",
    "    print(n)\n",
    "    n=n-1"
   ]
  },
  {
   "cell_type": "code",
   "execution_count": 5,
   "id": "c9886d93",
   "metadata": {},
   "outputs": [
    {
     "name": "stdout",
     "output_type": "stream",
     "text": [
      "enter the number5\n",
      "5\n",
      "20\n",
      "60\n",
      "120\n",
      "120\n"
     ]
    }
   ],
   "source": [
    "n=int(input(\"enter the number\"))\n",
    "prod=1\n",
    "while n>=1:\n",
    "    prod=prod*n\n",
    "    n=n-1\n",
    "    print(prod)"
   ]
  },
  {
   "cell_type": "code",
   "execution_count": 3,
   "id": "3320cc93",
   "metadata": {},
   "outputs": [],
   "source": [
    "l1=[\"apple\",\"kiwi\",\"banana\",0]"
   ]
  },
  {
   "cell_type": "code",
   "execution_count": 4,
   "id": "78de9edf",
   "metadata": {},
   "outputs": [
    {
     "name": "stdout",
     "output_type": "stream",
     "text": [
      "['apple', 'kiwi', 'banana', 0]\n"
     ]
    }
   ],
   "source": [
    "print(l1)"
   ]
  },
  {
   "cell_type": "code",
   "execution_count": 5,
   "id": "89a7f98a",
   "metadata": {},
   "outputs": [],
   "source": [
    "a1=[1,2,3,4]"
   ]
  },
  {
   "cell_type": "code",
   "execution_count": 6,
   "id": "18deaea3",
   "metadata": {},
   "outputs": [
    {
     "name": "stdout",
     "output_type": "stream",
     "text": [
      "[1, 2, 3, 4]\n"
     ]
    }
   ],
   "source": [
    "print(a1)"
   ]
  },
  {
   "cell_type": "code",
   "execution_count": 9,
   "id": "83ce2cce",
   "metadata": {},
   "outputs": [],
   "source": [
    "l1=[1,2,3,4,\"a\"]"
   ]
  },
  {
   "cell_type": "code",
   "execution_count": 14,
   "id": "4ac335ff",
   "metadata": {},
   "outputs": [
    {
     "name": "stdout",
     "output_type": "stream",
     "text": [
      "<class 'list'>\n"
     ]
    }
   ],
   "source": [
    "print(type(l1))"
   ]
  },
  {
   "cell_type": "code",
   "execution_count": 15,
   "id": "3682df2e",
   "metadata": {},
   "outputs": [],
   "source": [
    "a1=[1,2,3,4,5]"
   ]
  },
  {
   "cell_type": "code",
   "execution_count": 20,
   "id": "82fd99ea",
   "metadata": {},
   "outputs": [
    {
     "name": "stdout",
     "output_type": "stream",
     "text": [
      "<class 'list'>\n"
     ]
    }
   ],
   "source": [
    "print(type(a1))"
   ]
  },
  {
   "cell_type": "code",
   "execution_count": 11,
   "id": "3be6bfac",
   "metadata": {},
   "outputs": [
    {
     "name": "stdout",
     "output_type": "stream",
     "text": [
      "array('i', [1, 2, 3, 4, 5])\n"
     ]
    }
   ],
   "source": [
    "import array\n",
    "from array import *\n",
    "arr=array('i',[1,2,3,4,5])\n",
    "print(arr)"
   ]
  },
  {
   "cell_type": "code",
   "execution_count": 8,
   "id": "398395a4",
   "metadata": {},
   "outputs": [
    {
     "name": "stdout",
     "output_type": "stream",
     "text": [
      "<class 'array.array'>\n"
     ]
    }
   ],
   "source": [
    "import array\n",
    "from array import *\n",
    "arr=array('i',[1,2,3,4,5])\n",
    "print(type(arr))"
   ]
  },
  {
   "cell_type": "code",
   "execution_count": 8,
   "id": "cf291856",
   "metadata": {},
   "outputs": [
    {
     "name": "stdout",
     "output_type": "stream",
     "text": [
      "array('i', [1, 2, 3, 4, 5, 6])\n"
     ]
    }
   ],
   "source": [
    "arr.append(6)\n",
    "print(arr)"
   ]
  },
  {
   "cell_type": "code",
   "execution_count": 9,
   "id": "fc577630",
   "metadata": {},
   "outputs": [
    {
     "name": "stdout",
     "output_type": "stream",
     "text": [
      "array('i', [1, 2, -10, 3, 4, 5, 6])\n"
     ]
    }
   ],
   "source": [
    "arr.insert(2,-10)\n",
    "print(arr)"
   ]
  },
  {
   "cell_type": "code",
   "execution_count": 10,
   "id": "9edb3d23",
   "metadata": {},
   "outputs": [
    {
     "name": "stdout",
     "output_type": "stream",
     "text": [
      "array('i', [1, 2, -10, 3, 5, 6])\n"
     ]
    }
   ],
   "source": [
    "arr.remove(4)\n",
    "print(arr)"
   ]
  },
  {
   "cell_type": "code",
   "execution_count": 13,
   "id": "5a254288",
   "metadata": {},
   "outputs": [
    {
     "name": "stdout",
     "output_type": "stream",
     "text": [
      "1\n",
      "2\n",
      "3\n",
      "4\n",
      "5\n"
     ]
    }
   ],
   "source": [
    "for b in arr:\n",
    " print(b)"
   ]
  },
  {
   "cell_type": "code",
   "execution_count": 1,
   "id": "ff82817a",
   "metadata": {},
   "outputs": [
    {
     "name": "stdout",
     "output_type": "stream",
     "text": [
      "2\n",
      "1\n"
     ]
    }
   ],
   "source": [
    "#swaping method:\n",
    "x=1\n",
    "y=2\n",
    "x,y=y,x\n",
    "print(x)\n",
    "print(y)"
   ]
  },
  {
   "cell_type": "code",
   "execution_count": 3,
   "id": "2641982a",
   "metadata": {},
   "outputs": [
    {
     "name": "stdout",
     "output_type": "stream",
     "text": [
      "[13, 49, 38, 28]\n"
     ]
    }
   ],
   "source": [
    "list=[38,49,13,28]\n",
    "list[0],list[2]=list[2],list[0]\n",
    "print(list)"
   ]
  },
  {
   "cell_type": "code",
   "execution_count": 5,
   "id": "228ed6de",
   "metadata": {},
   "outputs": [
    {
     "name": "stdout",
     "output_type": "stream",
     "text": [
      "array('i', [13, 39, 43, 67])\n"
     ]
    }
   ],
   "source": [
    "import array\n",
    "from array import *\n",
    "arr=array('i',[39,13,43,67])\n",
    "arr[0],arr[1]=arr[1],arr[0]\n",
    "print(arr)"
   ]
  },
  {
   "cell_type": "code",
   "execution_count": 9,
   "id": "ab1e45b6",
   "metadata": {},
   "outputs": [
    {
     "name": "stdout",
     "output_type": "stream",
     "text": [
      "array('i', [12, 25, 34, 64])\n"
     ]
    }
   ],
   "source": [
    "def pairwise_swap(array):\n",
    "    n=len(arr)\n",
    "    for i in range(0,n-1):\n",
    "        for j in range(0,n-i-1):\n",
    "            if arr[j]>arr[j+1]:\n",
    "                arr[j],arr[j+1]=arr[j+1],arr[j]\n",
    "arr=array('i',[64,34,25,12])\n",
    "pairwise_swap(arr)\n",
    "print(arr)"
   ]
  },
  {
   "cell_type": "code",
   "execution_count": 10,
   "id": "9bf048ce",
   "metadata": {},
   "outputs": [
    {
     "name": "stdout",
     "output_type": "stream",
     "text": [
      "array('i', [12, 12, 25, 34, 34, 35, 56, 56, 64, 100])\n"
     ]
    }
   ],
   "source": [
    "def pairwise_swap(array):\n",
    "    n=len(arr)\n",
    "    for i in range(0,n-1):\n",
    "        for j in range(0,n-i-1):\n",
    "            if arr[j]>arr[j+1]:\n",
    "                arr[j],arr[j+1]=arr[j+1],arr[j]\n",
    "arr=array('i',[64,34,25,12,100,12,34,35,56,56])\n",
    "pairwise_swap(arr)\n",
    "print(arr)"
   ]
  },
  {
   "cell_type": "code",
   "execution_count": 9,
   "id": "1c4be4fa",
   "metadata": {},
   "outputs": [
    {
     "name": "stdout",
     "output_type": "stream",
     "text": [
      "array('i', [100, 64, 56, 56, 35, 34, 34, 25, 12, 12])\n"
     ]
    }
   ],
   "source": [
    "def pairwise_swap(array):\n",
    "    n=len(arr)\n",
    "    for i in range(0,n-1):\n",
    "        for j in range(0,n-i-1):\n",
    "            if arr[j]<arr[j+1]:\n",
    "                arr[j],arr[j+1]=arr[j+1],arr[j]\n",
    "arr=array('i',[64,34,25,12,100,12,34,35,56,56])\n",
    "pairwise_swap(arr)\n",
    "print(arr)"
   ]
  },
  {
   "cell_type": "code",
   "execution_count": 2,
   "id": "75d0e0ee",
   "metadata": {},
   "outputs": [
    {
     "name": "stdout",
     "output_type": "stream",
     "text": [
      "value of x:- is 2\n",
      "value of y:- is 1\n",
      "3\n",
      "2 1\n"
     ]
    }
   ],
   "source": [
    "x=1\n",
    "y=2\n",
    "print(\"value of x:- is\",y)\n",
    "print(\"value of y:- is\",x)\n",
    "print(x+y)\n",
    "x,y=y,x\n",
    "print(x,y)"
   ]
  },
  {
   "cell_type": "code",
   "execution_count": 3,
   "id": "8a7db3e9",
   "metadata": {},
   "outputs": [
    {
     "name": "stdout",
     "output_type": "stream",
     "text": [
      "First half: [1, 2, 3, 4, 5, 6]\n",
      "Second half: [7, 8, 9, 10, 11, 12]\n"
     ]
    }
   ],
   "source": [
    "# Define your array with 12 elements\n",
    "my_array = [1, 2, 3, 4, 5, 6, 7, 8, 9, 10, 11, 12]\n",
    "\n",
    "# Calculate the midpoint to divide the array into two equal parts\n",
    "midpoint = len(my_array) // 2\n",
    "\n",
    "# Split the array into two equal parts\n",
    "first_half = my_array[:midpoint]\n",
    "second_half = my_array[midpoint:]\n",
    "\n",
    "# Print both parts\n",
    "print(\"First half:\", first_half)\n",
    "print(\"Second half:\", second_half)\n"
   ]
  },
  {
   "cell_type": "code",
   "execution_count": 8,
   "id": "0cd0ab79",
   "metadata": {},
   "outputs": [
    {
     "name": "stdout",
     "output_type": "stream",
     "text": [
      "array('i', [1, 2, 3, 4, 5, 6])\n",
      "array('i', [7, 8, 9, 10, 11, 12])\n"
     ]
    }
   ],
   "source": [
    "import array\n",
    "from array import*\n",
    "def divide(array):\n",
    "    n=len(arr)\n",
    "    mid=n//2\n",
    "    part1=arr[:mid]\n",
    "    part2=arr[mid:]\n",
    "    print(part1)\n",
    "    print(part2)\n",
    "    \n",
    "arr=array('i',[1,2,3,4,5,6,7,8,9,10,11,12])\n",
    "divide(arr)"
   ]
  },
  {
   "cell_type": "code",
   "execution_count": 9,
   "id": "b7875056",
   "metadata": {},
   "outputs": [
    {
     "name": "stdout",
     "output_type": "stream",
     "text": [
      "array('i', [1, 2, 3, 4])\n",
      "array('i', [5, 6, 7, 8])\n",
      "array('i', [9, 10, 11, 12])\n"
     ]
    }
   ],
   "source": [
    "import array\n",
    "from array import*\n",
    "def divide(array):\n",
    "    n=len(arr)\n",
    "    mid=n//3\n",
    "    part1=arr[:mid]\n",
    "    part2=arr[mid:2*mid]\n",
    "    part3=arr[2*mid:]\n",
    "    print(part1)\n",
    "    print(part2)\n",
    "    print(part3)\n",
    "    \n",
    "arr=array('i',[1,2,3,4,5,6,7,8,9,10,11,12])\n",
    "divide(arr)"
   ]
  },
  {
   "cell_type": "code",
   "execution_count": 11,
   "id": "80c53026",
   "metadata": {},
   "outputs": [
    {
     "name": "stdout",
     "output_type": "stream",
     "text": [
      "array('i', [1, 2])\n",
      "array('i', [3, 4])\n",
      "array('i', [5, 6])\n",
      "array('i', [7, 8])\n",
      "array('i', [9, 10])\n",
      "array('i', [11, 12])\n"
     ]
    }
   ],
   "source": [
    "import array\n",
    "from array import*\n",
    "def divide(array):\n",
    "    n=len(arr)\n",
    "    mid=n//6\n",
    "    part1=arr[:mid]\n",
    "    part2=arr[mid:2*mid]\n",
    "    part3=arr[2*mid:3*mid]\n",
    "    part4=arr[3*mid:4*mid]\n",
    "    part5=arr[4*mid:5*mid]\n",
    "    part6=arr[5*mid:]\n",
    "    \n",
    "    print(part1)\n",
    "    print(part2)\n",
    "    print(part3)\n",
    "    print(part4)\n",
    "    print(part5)\n",
    "    print(part6)\n",
    "    \n",
    "arr=array('i',[1,2,3,4,5,6,7,8,9,10,11,12])\n",
    "divide(arr)"
   ]
  },
  {
   "cell_type": "code",
   "execution_count": null,
   "id": "ee20a446",
   "metadata": {},
   "outputs": [],
   "source": []
  }
 ],
 "metadata": {
  "kernelspec": {
   "display_name": "Python 3 (ipykernel)",
   "language": "python",
   "name": "python3"
  },
  "language_info": {
   "codemirror_mode": {
    "name": "ipython",
    "version": 3
   },
   "file_extension": ".py",
   "mimetype": "text/x-python",
   "name": "python",
   "nbconvert_exporter": "python",
   "pygments_lexer": "ipython3",
   "version": "3.11.5"
  }
 },
 "nbformat": 4,
 "nbformat_minor": 5
}
